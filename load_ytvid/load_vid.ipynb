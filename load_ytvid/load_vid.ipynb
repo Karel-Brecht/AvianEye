{
 "cells": [
  {
   "cell_type": "code",
   "execution_count": 6,
   "metadata": {},
   "outputs": [
    {
     "name": "stdout",
     "output_type": "stream",
     "text": [
      "The autoreload extension is already loaded. To reload it, use:\n",
      "  %reload_ext autoreload\n"
     ]
    }
   ],
   "source": [
    "# auto-reload modules\n",
    "%load_ext autoreload\n",
    "%autoreload 2"
   ]
  },
  {
   "cell_type": "code",
   "execution_count": 1,
   "metadata": {},
   "outputs": [
    {
     "name": "stdout",
     "output_type": "stream",
     "text": [
      "[youtube] Extracting URL: https://www.youtube.com/watch?v=swavE6ZwLJQ&ab_channel=GettysburgLiveCam\n",
      "[youtube] swavE6ZwLJQ: Downloading webpage\n",
      "[youtube] swavE6ZwLJQ: Downloading tv client config\n",
      "[youtube] swavE6ZwLJQ: Downloading player 20830619\n",
      "[youtube] swavE6ZwLJQ: Downloading tv player API JSON\n",
      "[youtube] swavE6ZwLJQ: Downloading ios player API JSON\n",
      "[youtube] swavE6ZwLJQ: Downloading m3u8 information\n"
     ]
    },
    {
     "name": "stderr",
     "output_type": "stream",
     "text": [
      "WARNING: ffmpeg not found. The downloaded format may not be the best available. Installing ffmpeg is strongly recommended: https://github.com/yt-dlp/yt-dlp#dependencies\n"
     ]
    },
    {
     "name": "stdout",
     "output_type": "stream",
     "text": [
      "[info] swavE6ZwLJQ: Downloading 1 format(s): 18\n",
      "[download] Destination: 9 Species Visit the Bird Feeder In Less Than Two Minutes! [swavE6ZwLJQ].mp4\n",
      "[download] 100% of    5.83MiB in 00:00:01 at 3.76MiB/s   \n"
     ]
    }
   ],
   "source": [
    "import yt_dlp\n",
    "\n",
    "ydl_opts = {}\n",
    "\n",
    "def dwl_vid(video_url):\n",
    "    with yt_dlp.YoutubeDL(ydl_opts) as ydl:\n",
    "        ydl.download([video_url])\n",
    "\n",
    "channel = 1\n",
    "while channel == 1:\n",
    "    link_of_the_video = input(\"Copy & paste the URL of the YouTube video you want to download: \")\n",
    "    zxt = link_of_the_video.strip()\n",
    "\n",
    "    dwl_vid(zxt)\n",
    "    channel = int(input(\"Enter 1 if you want to download more videos\\nEnter 0 if you are done: \"))"
   ]
  }
 ],
 "metadata": {
  "kernelspec": {
   "display_name": "venv",
   "language": "python",
   "name": "python3"
  },
  "language_info": {
   "codemirror_mode": {
    "name": "ipython",
    "version": 3
   },
   "file_extension": ".py",
   "mimetype": "text/x-python",
   "name": "python",
   "nbconvert_exporter": "python",
   "pygments_lexer": "ipython3",
   "version": "3.12.3"
  }
 },
 "nbformat": 4,
 "nbformat_minor": 2
}
