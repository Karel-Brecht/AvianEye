{
 "cells": [
  {
   "cell_type": "code",
   "execution_count": 17,
   "metadata": {},
   "outputs": [
    {
     "name": "stdout",
     "output_type": "stream",
     "text": [
      "The autoreload extension is already loaded. To reload it, use:\n",
      "  %reload_ext autoreload\n"
     ]
    }
   ],
   "source": [
    "# auto-reload modules\n",
    "%load_ext autoreload\n",
    "%autoreload 2"
   ]
  },
  {
   "cell_type": "code",
   "execution_count": null,
   "metadata": {},
   "outputs": [],
   "source": [
    "import yt_dlp\n",
    "\n",
    "ydl_opts = {}\n",
    "\n",
    "def dwl_vid(video_url):\n",
    "    with yt_dlp.YoutubeDL(ydl_opts) as ydl:\n",
    "        print(ydl.download([video_url]))\n",
    "\n",
    "channel = 1\n",
    "while channel == 1:\n",
    "    link_of_the_video = input(\"Copy & paste the URL of the YouTube video you want to download: \")\n",
    "    zxt = link_of_the_video.strip()\n",
    "\n",
    "    dwl_vid(zxt)\n",
    "    channel = int(input(\"Enter 1 if you want to download more videos\\nEnter 0 if you are done: \"))"
   ]
  }
 ],
 "metadata": {
  "kernelspec": {
   "display_name": "venv",
   "language": "python",
   "name": "python3"
  },
  "language_info": {
   "codemirror_mode": {
    "name": "ipython",
    "version": 3
   },
   "file_extension": ".py",
   "mimetype": "text/x-python",
   "name": "python",
   "nbconvert_exporter": "python",
   "pygments_lexer": "ipython3",
   "version": "3.12.3"
  }
 },
 "nbformat": 4,
 "nbformat_minor": 2
}
