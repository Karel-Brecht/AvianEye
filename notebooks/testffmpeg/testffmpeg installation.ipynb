{
 "cells": [
  {
   "cell_type": "code",
   "execution_count": 1,
   "metadata": {},
   "outputs": [],
   "source": [
    "# auto-reload modules\n",
    "%load_ext autoreload\n",
    "%autoreload 2"
   ]
  },
  {
   "cell_type": "code",
   "execution_count": null,
   "metadata": {},
   "outputs": [],
   "source": [
    "# print current directory\n",
    "import os\n",
    "import sys\n",
    "import subprocess\n",
    "\n",
    "print(\"Current working directory:\", os.getcwd())\n",
    "\n",
    "# Add project root directory to sys.path\n",
    "sys.path.append(os.path.abspath(os.path.join(os.getcwd(), '../..')))"
   ]
  },
  {
   "cell_type": "code",
   "execution_count": null,
   "metadata": {},
   "outputs": [],
   "source": [
    "from app.operations.download import Downloader\n",
    "from app.operations.detection import BirdDetector\n",
    "from app.operations.classification import BirdClassifier\n",
    "from app.models.video_processor import VideoProcessor\n",
    "from app.utils.utils import add_audio_to_video"
   ]
  },
  {
   "cell_type": "markdown",
   "metadata": {},
   "source": [
    "### Initialize the VideoProcessor and load the video"
   ]
  },
  {
   "cell_type": "code",
   "execution_count": 4,
   "metadata": {},
   "outputs": [
    {
     "name": "stdout",
     "output_type": "stream",
     "text": [
      "Model and preprocessor loaded successfully.\n",
      "[youtube] Extracting URL: https://www.youtube.com/watch?v=swavE6ZwLJQ\n",
      "[youtube] swavE6ZwLJQ: Downloading webpage\n",
      "[youtube] swavE6ZwLJQ: Downloading tv client config\n",
      "[youtube] swavE6ZwLJQ: Downloading player ac290d0b\n",
      "[youtube] swavE6ZwLJQ: Downloading tv player API JSON\n",
      "[youtube] swavE6ZwLJQ: Downloading ios player API JSON\n",
      "[youtube] swavE6ZwLJQ: Downloading m3u8 information\n",
      "[info] swavE6ZwLJQ: Downloading 1 format(s): 620+140\n",
      "[download] 9 Species Visit the Bird Feeder In Less Than Two Minutes!.mp4 has already been downloaded\n"
     ]
    },
    {
     "data": {
      "text/plain": [
       "'9 Species Visit the Bird Feeder In Less Than Two Minutes!.mp4'"
      ]
     },
     "execution_count": 4,
     "metadata": {},
     "output_type": "execute_result"
    }
   ],
   "source": [
    "downloader = Downloader(\"../../downloads/videos\")\n",
    "detector = BirdDetector(\"../../models/detection_model/yolov10n.pt\")\n",
    "classfier = BirdClassifier(\"../../models/classification_model\")\n",
    "\n",
    "video_link = \"https://www.youtube.com/watch?v=swavE6ZwLJQ\"  # Replace with your video link\n",
    "\n",
    "vp = VideoProcessor(video_link, downloader, detector, classfier)\n",
    "vp.download_video()"
   ]
  },
  {
   "cell_type": "code",
   "execution_count": 5,
   "metadata": {},
   "outputs": [
    {
     "data": {
      "text/plain": [
       "'9 Species Visit the Bird Feeder In Less Than Two Minutes!.mp4'"
      ]
     },
     "execution_count": 5,
     "metadata": {},
     "output_type": "execute_result"
    }
   ],
   "source": [
    "vp.video_path"
   ]
  },
  {
   "cell_type": "code",
   "execution_count": 6,
   "metadata": {},
   "outputs": [],
   "source": [
    "vp.extract_frames()"
   ]
  },
  {
   "cell_type": "code",
   "execution_count": 8,
   "metadata": {},
   "outputs": [
    {
     "name": "stdout",
     "output_type": "stream",
     "text": [
      "Saved processed video to output.mp4\n",
      "Added audio to output.mp4\n"
     ]
    }
   ],
   "source": [
    "vp.export_video('output.mp4')"
   ]
  },
  {
   "cell_type": "code",
   "execution_count": null,
   "metadata": {},
   "outputs": [
    {
     "data": {
      "text/plain": [
       "CompletedProcess(args=['ffmpeg', '-i', 'input_video.mp4', '-i', 'input_audio.mp4', '-map', '0:v', '-map', '1:a', '-c:v', 'copy', '-c:a', 'copy', '-y', 'output.mp4'], returncode=0)"
      ]
     },
     "execution_count": 1,
     "metadata": {},
     "output_type": "execute_result"
    }
   ],
   "source": [
    "subprocess.run(['ffmpeg', '-i', 'input_video.mp4', '-i', 'input_audio.mp4', '-map', '0:v', '-map', '1:a', '-c:v', 'copy', '-c:a', 'copy', '-y', 'output.mp4'])"
   ]
  }
 ],
 "metadata": {
  "kernelspec": {
   "display_name": "venv",
   "language": "python",
   "name": "python3"
  },
  "language_info": {
   "codemirror_mode": {
    "name": "ipython",
    "version": 3
   },
   "file_extension": ".py",
   "mimetype": "text/x-python",
   "name": "python",
   "nbconvert_exporter": "python",
   "pygments_lexer": "ipython3",
   "version": "3.12.3"
  }
 },
 "nbformat": 4,
 "nbformat_minor": 2
}
