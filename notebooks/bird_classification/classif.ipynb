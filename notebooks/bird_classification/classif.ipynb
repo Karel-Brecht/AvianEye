{
 "cells": [
  {
   "cell_type": "code",
   "execution_count": 1,
   "metadata": {},
   "outputs": [
    {
     "name": "stderr",
     "output_type": "stream",
     "text": [
      "c:\\Users\\karel\\Dev\\datameister_case\\venv\\Lib\\site-packages\\tqdm\\auto.py:21: TqdmWarning: IProgress not found. Please update jupyter and ipywidgets. See https://ipywidgets.readthedocs.io/en/stable/user_install.html\n",
      "  from .autonotebook import tqdm as notebook_tqdm\n"
     ]
    }
   ],
   "source": [
    "# Importing the libraries needed\n",
    "import torch\n",
    "import urllib.request\n",
    "from PIL import Image\n",
    "from transformers import EfficientNetImageProcessor, EfficientNetForImageClassification"
   ]
  },
  {
   "cell_type": "code",
   "execution_count": 2,
   "metadata": {},
   "outputs": [
    {
     "name": "stdout",
     "output_type": "stream",
     "text": [
      "Image size: (1592, 1710)\n",
      "Image mode: RGB\n",
      "Image format: JPEG\n",
      "Image channels: ('R', 'G', 'B')\n"
     ]
    }
   ],
   "source": [
    "url = 'https://tx.audubon.org/sites/default/files/styles/bean_wysiwyg_full_width/public/cbcpressroom_tuftedtitmouse-judyhowle.jpg?itok=VMtDnqip'\n",
    "\n",
    "# Opening the image using PIL\n",
    "img = Image.open(urllib.request.urlretrieve(url)[0])\n",
    "\n",
    "# print information about the img\n",
    "print(f\"Image size: {img.size}\")\n",
    "print(f\"Image mode: {img.mode}\")\n",
    "print(f\"Image format: {img.format}\")\n",
    "# channels\n",
    "print(f\"Image channels: {img.getbands()}\")"
   ]
  },
  {
   "cell_type": "code",
   "execution_count": 4,
   "metadata": {},
   "outputs": [
    {
     "name": "stdout",
     "output_type": "stream",
     "text": [
      "Image size: (472, 455)\n",
      "Image mode: RGB\n",
      "Image format: None\n",
      "Image channels: ('R', 'G', 'B')\n"
     ]
    }
   ],
   "source": [
    "img = Image.open(\"../bird_imgs/bluejay.png\")\n",
    "\n",
    "img = img.convert(\"RGB\")  # Convert to RGB if not already in that mode\n",
    "\n",
    "# print information about the img\n",
    "print(f\"Image size: {img.size}\")\n",
    "print(f\"Image mode: {img.mode}\")\n",
    "print(f\"Image format: {img.format}\")\n",
    "# channels\n",
    "print(f\"Image channels: {img.getbands()}\")"
   ]
  },
  {
   "cell_type": "code",
   "execution_count": null,
   "metadata": {},
   "outputs": [
    {
     "name": "stdout",
     "output_type": "stream",
     "text": [
      "CLARKS NUTCRACKER\n"
     ]
    }
   ],
   "source": [
    "\n",
    "# Loading the model and preprocessor from local directory\n",
    "preprocessor = EfficientNetImageProcessor.from_pretrained(\"../../models/classification_model\")\n",
    "model = EfficientNetForImageClassification.from_pretrained(\"../../models/classification_model\")\n",
    "\n",
    "# Preprocessing the input\n",
    "inputs = preprocessor(img, return_tensors=\"pt\")\n",
    "\n",
    "# Running the inference\n",
    "with torch.no_grad():\n",
    "    logits = model(**inputs).logits\n",
    "\n",
    "# Getting the predicted label\n",
    "predicted_label = logits.argmax(-1).item()\n",
    "print(model.config.id2label[predicted_label])\n"
   ]
  },
  {
   "cell_type": "code",
   "execution_count": 10,
   "metadata": {},
   "outputs": [
    {
     "data": {
      "text/plain": [
       "151"
      ]
     },
     "execution_count": 10,
     "metadata": {},
     "output_type": "execute_result"
    }
   ],
   "source": [
    "logits.argmax(-1).item()"
   ]
  },
  {
   "cell_type": "code",
   "execution_count": null,
   "metadata": {},
   "outputs": [],
   "source": []
  }
 ],
 "metadata": {
  "kernelspec": {
   "display_name": "venv",
   "language": "python",
   "name": "python3"
  },
  "language_info": {
   "codemirror_mode": {
    "name": "ipython",
    "version": 3
   },
   "file_extension": ".py",
   "mimetype": "text/x-python",
   "name": "python",
   "nbconvert_exporter": "python",
   "pygments_lexer": "ipython3",
   "version": "3.12.3"
  }
 },
 "nbformat": 4,
 "nbformat_minor": 2
}
